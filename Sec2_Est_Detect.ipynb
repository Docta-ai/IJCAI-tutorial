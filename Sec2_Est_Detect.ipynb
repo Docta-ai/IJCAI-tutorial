{
 "cells": [
  {
   "cell_type": "markdown",
   "metadata": {},
   "source": [
    "# Module 1: Estimate Transition Matrix\n",
    "\n",
    "* Naive approach\n",
    "* Estimate with anchor points\n",
    "* Estimate with consensus patterns"
   ]
  },
  {
   "cell_type": "markdown",
   "metadata": {},
   "source": [
    "### 1.1. Naive approach\n",
    "If we know both the ground-truth labels and noisy labels:\n",
    "$$ \\mathbb P(\\widetilde Y=j | Y=i) = \\frac{\\mathbb P(\\widetilde Y=j , Y=i)}{\\mathbb P(Y=i)} \\approx \\frac{\\text{\\#Samples with true label i and noisy label j}}{\\text{\\#Samples with true label i}} $$\n"
   ]
  },
  {
   "cell_type": "code",
   "execution_count": 73,
   "metadata": {},
   "outputs": [
    {
     "name": "stdout",
     "output_type": "stream",
     "text": [
      "T = [\n",
      "[ 0.5\t0.5 ]\n",
      "[ 0.25\t0.75 ]\n",
      "      ]\n",
      "            \n"
     ]
    }
   ],
   "source": [
    "import numpy as np\n",
    "\n",
    "def est_T_naive(clean_labels, noisy_labels, num_classes):\n",
    "      T = np.zeros((num_classes, num_classes))\n",
    "      for i in range(num_classes):\n",
    "            for j in range(num_classes):\n",
    "                  T[i][j] = ((clean_labels == i) * (noisy_labels == j)).sum() / (clean_labels == i).sum() # follow the equation\n",
    "      matrix_with_brackets = '\\n'.join(['[ ' + '\\t'.join(map(str, row)) + ' ]' for row in T])\n",
    "\n",
    "      print(f'''T = [\n",
    "{matrix_with_brackets}\n",
    "      ]\n",
    "            ''')\n",
    "\n",
    "clean_labels = np.array([0, 1, 0, 0, 0, 1, 1, 1])\n",
    "noisy_labels = np.array([1, 1, 0, 0, 1, 1, 1, 0])\n",
    "est_T_naive(clean_labels, noisy_labels, num_classes=2)\n"
   ]
  },
  {
   "cell_type": "markdown",
   "metadata": {},
   "source": [
    "**Challenge:** No clean label $Y$\n",
    "\n",
    "**Solution:** Can we guess the clean label?"
   ]
  },
  {
   "cell_type": "markdown",
   "metadata": {},
   "source": [
    "### 1.2. Estimate with anchor points\n",
    "\n",
    "**Definition: (Anchor points)** ([Xia, et al.](https://arxiv.org/abs/1906.00189), [Liu & Tao](https://arxiv.org/pdf/1411.7718.pdf))\n",
    "A feature $x$ is an anchor point for the class $i$ if $\\mathbb P(Y = i|X=x)$ is equal to one or close to one.\n",
    "\n",
    "* Step 1: Find the anchor points according to model (train a DNN) predictions (high confidence)\n",
    "* Step 2 Estimate $\\bm T$ with anchor points."
   ]
  },
  {
   "cell_type": "code",
   "execution_count": 74,
   "metadata": {},
   "outputs": [
    {
     "name": "stdout",
     "output_type": "stream",
     "text": [
      "T = [\n",
      "[ 0.5\t0.5 ]\n",
      "[ 0.25\t0.75 ]\n",
      "      ]\n",
      "            \n"
     ]
    }
   ],
   "source": [
    "labels_of_anchor_points = np.array([0, 1, 0, 0, 0, 1, 1, 1])\n",
    "noisy_labels = np.array([1, 1, 0, 0, 1, 1, 1, 0])\n",
    "est_T_naive(clean_labels=labels_of_anchor_points, noisy_labels=noisy_labels, num_classes=2)"
   ]
  },
  {
   "cell_type": "markdown",
   "metadata": {},
   "source": [
    "### 1.3. Estimate with consensus patterns"
   ]
  },
  {
   "cell_type": "markdown",
   "metadata": {},
   "source": [
    "#### 1.3.1 What are consensus patterns?\n",
    "\n",
    "If we have multiple noisy labels per feature:\n",
    "* 1st-order $(\\widetilde Y_1)$\n",
    "* 2nd-order $(\\widetilde Y_1, \\widetilde Y_2)$\n",
    "* 3rd-order $(\\widetilde Y_1, \\widetilde Y_2, \\widetilde Y_3)$\n",
    "* ...\n",
    "\n",
    "E.g., $(\\widetilde Y_1, \\widetilde Y_2, \\widetilde Y_3) = (1,1,0)$\n",
    "\n",
    "\n"
   ]
  },
  {
   "cell_type": "markdown",
   "metadata": {},
   "source": [
    "#### 1.3.2 Equations (sketch)\n",
    "\n",
    "**Intuition: Consensus patterns encode $\\bm T$.**\n",
    "\n",
    "$$\n",
    "\\mathbb P(\\widetilde Y_1, \\widetilde Y_2, \\widetilde Y_3) = \\textsf{Func}_3(\\bm T, \\bm p).\n",
    "$$\n",
    "\n",
    "* LHS: *Numerical* counts of consensus patterns\n",
    "* RHS: *Analytical* equations (probabilities)\n",
    "\n",
    "Let's consider this binary example:\n",
    "$\n",
    "\\bm T = \\begin{pmatrix}\n",
    "1-e_1 & e_1 \\\\\n",
    "e_2 & 1-e_2\n",
    "\\end{pmatrix}\n",
    "$, $\\bm p=[p, 1-p]$\n",
    "\n",
    "<img src=\"tutorial_imgs/example-3order.png\" width=\"1200\"> "
   ]
  },
  {
   "cell_type": "markdown",
   "metadata": {},
   "source": [
    "#### 1.3.3 Code\n",
    "\n",
    "\n",
    "<img src=\"tutorial_imgs/consensus_eq.png\" width=\"700\"> \n",
    "\n",
    "**LHS - Get numerical counts**\n",
    "\n",
    "```python\n",
    "\n",
    "# cnt: empirical numbers\n",
    "for pattern in consensus_patterns:\n",
    "    cnt[0][pattern[0]] += 1  # 1st order\n",
    "    cnt[1][pattern[0]][pattern[1]] += 1  # 2nd order\n",
    "    cnt[2][pattern[0]][pattern[1]][pattern[2]] += 1  # 3rd order\n",
    "\n",
    "```\n"
   ]
  },
  {
   "cell_type": "markdown",
   "metadata": {},
   "source": [
    "\n",
    "**RHS - Prepare analytical equations**\n",
    "\n",
    "<img src=\"tutorial_imgs/consensus_eq.png\" width=\"700\"> \n",
    "\n",
    "```python\n",
    "# c_analytical: analytical functions\n",
    "\n",
    "# 1st order equations\n",
    "c_analytical[0] = torch.mm(T.transpose(0, 1), P).transpose(0, 1) # matrix product between T and p\n",
    "func_3order = torch.tensor([])\n",
    "for i in range(KINDS):\n",
    "    Tr = torch.cat((T[:, i:], T[:, :i]), 1) # T is shifted i columns\n",
    "    product_2order = torch.mm((T * Tr).transpose(0, 1), P) # element-wise product between T & Tr, then matrix product with p\n",
    "    \n",
    "    # 2nd order equations\n",
    "    c_analytical[1] = torch.cat(\n",
    "        [c_analytical[1], product_2order], 1) if i != 0 else product_2order\n",
    "    for j in range(KINDS):\n",
    "        Ts = torch.cat((T[:, j:], T[:, :j]), 1)\n",
    "        product_3order = torch.mm((T * Tr * Ts).transpose(0, 1), P) # element/matrix product between T, Tr, Ts, and p\n",
    "        func_3order = torch.cat([func_3order, product_3order], 1) if j != 0 else product_3order\n",
    "    # adjust the order of the output (N*N*N), keeping consistent with c_est\n",
    "    t3 = []\n",
    "    for p3 in range(KINDS):\n",
    "        t3 = torch.cat((func_3order[p3, KINDS - p3:], func_3order[p3, :KINDS - p3]))\n",
    "        func_3order[p3] = t3\n",
    "    for r in range(KINDS):\n",
    "        # 3rd order equations\n",
    "        c_analytical[2][r][(i+r+KINDS) % KINDS] = func_3order[r]\n",
    "\n",
    "```"
   ]
  },
  {
   "cell_type": "markdown",
   "metadata": {},
   "source": [
    "#### 1.3.4 Package: Docta\n",
    "```bash\n",
    "pip install docta.ai\n",
    "```"
   ]
  },
  {
   "cell_type": "markdown",
   "metadata": {},
   "source": [
    "**A Toy Example**\n",
    "* Synthesize a dataset of 4,000 instances\n",
    "* Binary classifications\n",
    "* Each instance has three noisy labels (given by three independent labeler)\n",
    "* *Task:* Estimate \n",
    "  * the label noise transition matrix $\\bm T$ \n",
    "  * the clean label distribution $\\bm p$. "
   ]
  },
  {
   "cell_type": "code",
   "execution_count": 75,
   "metadata": {},
   "outputs": [
    {
     "name": "stdout",
     "output_type": "stream",
     "text": [
      "The true T is:\n",
      "[[0.611 0.389]\n",
      " [0.203 0.797]]\n",
      "The true p is:\n",
      "[0.3 0.7]\n"
     ]
    }
   ],
   "source": [
    "import numpy as np\n",
    "np.set_printoptions(precision=3)\n",
    "\n",
    "# load the data generated in the setup section\n",
    "clean_labels = np.load(\"./data/clean_labels.npy\")\n",
    "noisy_labels = np.load(\"./data/noisy_labels.npy\")\n",
    "\n",
    "# Get the true T\n",
    "true_T = np.zeros((2,2))\n",
    "true_p = np.zeros(2)\n",
    "for i in range(len(clean_labels)):\n",
    "    for j in range(len(noisy_labels[0])):\n",
    "        true_T[clean_labels[i]][noisy_labels[i][j]] += 1\n",
    "    true_p[clean_labels[i]] += 1\n",
    "true_T /= np.sum(true_T, 1).reshape(-1,1)\n",
    "true_p /= np.sum(true_p)\n",
    "\n",
    "# Print the True T and p\n",
    "print(f\"The true T is:\\n{true_T}\")\n",
    "print(f\"The true p is:\\n{true_p}\")"
   ]
  },
  {
   "cell_type": "markdown",
   "metadata": {},
   "source": [
    "Naive Approach: Use majority vote to estimate clean labels"
   ]
  },
  {
   "cell_type": "code",
   "execution_count": 76,
   "metadata": {},
   "outputs": [
    {
     "name": "stdout",
     "output_type": "stream",
     "text": [
      "The estimated T by majority vote is:\n",
      "[[0.754 0.246]\n",
      " [0.165 0.835]]\n",
      "The estimated p by majority vote is:\n",
      "[0.272 0.729]\n",
      "------------------\n",
      "The true T is:\n",
      "[[0.611 0.389]\n",
      " [0.203 0.797]]\n",
      "The true p is:\n",
      "[0.3 0.7]\n"
     ]
    }
   ],
   "source": [
    "mv_T = np.zeros((2,2))\n",
    "from collections import Counter\n",
    "mv_p = np.zeros(2)\n",
    "for i in range(len(clean_labels)):\n",
    "    mv_label = Counter(noisy_labels[i]).most_common(1)[0][0] # find the majority\n",
    "    mv_p[mv_label] += 1 # use the majority as the clean label\n",
    "    for j in range(len(noisy_labels[0])):\n",
    "        mv_T[mv_label][noisy_labels[i][j]] += 1\n",
    "\n",
    "mv_T /= np.sum(mv_T, 1).reshape(-1,1)\n",
    "mv_p /= np.sum(mv_p)\n",
    "\n",
    "# Print the estimated T and p\n",
    "print(f\"The estimated T by majority vote is:\\n{mv_T}\")\n",
    "print(f\"The estimated p by majority vote is:\\n{mv_p}\")\n",
    "# Print the True T and p\n",
    "print(\"------------------\")\n",
    "print(f\"The true T is:\\n{true_T}\")\n",
    "print(f\"The true p is:\\n{true_p}\")"
   ]
  },
  {
   "cell_type": "markdown",
   "metadata": {},
   "source": [
    "Estimate with consensus patterns (by Docta)"
   ]
  },
  {
   "cell_type": "code",
   "execution_count": 77,
   "metadata": {},
   "outputs": [
    {
     "name": "stdout",
     "output_type": "stream",
     "text": [
      "Estimating consensus patterns...\n"
     ]
    },
    {
     "name": "stderr",
     "output_type": "stream",
     "text": [
      "  5%|▌         | 1/20 [00:00<00:02,  7.42it/s]"
     ]
    },
    {
     "name": "stderr",
     "output_type": "stream",
     "text": [
      "100%|██████████| 20/20 [00:02<00:00,  9.84it/s]\n"
     ]
    },
    {
     "name": "stdout",
     "output_type": "stream",
     "text": [
      "Estimating consensus patterns... [Done]\n",
      "Use cpu to solve equations\n"
     ]
    },
    {
     "name": "stderr",
     "output_type": "stream",
     "text": [
      "100%|██████████| 1501/1501 [00:02<00:00, 608.97it/s]"
     ]
    },
    {
     "name": "stdout",
     "output_type": "stream",
     "text": [
      "Solve equations... [Done]\n",
      "The estimated T by Docta is:\n",
      "[[0.601 0.399]\n",
      " [0.213 0.787]]\n",
      "The estimated p by Docta is:\n",
      "[0.293 0.707]\n",
      "------------------\n",
      "The true T is:\n",
      "[[0.611 0.389]\n",
      " [0.203 0.797]]\n",
      "The true p is:\n",
      "[0.3 0.7]\n"
     ]
    },
    {
     "name": "stderr",
     "output_type": "stream",
     "text": [
      "\n"
     ]
    }
   ],
   "source": [
    "from docta.apis import Diagnose\n",
    "from docta.core.report import Report\n",
    "from docta.utils.config import Config\n",
    "import torch\n",
    "\n",
    "# Load config\n",
    "cfg = Config.fromfile('./config/toy.py')\n",
    "np.random.seed(42)\n",
    "torch.manual_seed(0)\n",
    "\n",
    "# Initialize the report\n",
    "report = Report()\n",
    "\n",
    "# Build a dataset\n",
    "class MyDataset:\n",
    "    def __init__(self, consensus_patterns):\n",
    "        self.consensus_patterns = consensus_patterns\n",
    "        self.label = np.asarray(noisy_labels)[:,0]\n",
    "\n",
    "    def __len__(self):\n",
    "        return len(self.consensus_patterns)\n",
    "\n",
    "dataset = MyDataset(noisy_labels)\n",
    "\n",
    "# Estimate T and p\n",
    "estimator = Diagnose(cfg, dataset, report=report)\n",
    "estimator.hoc()\n",
    "\n",
    "# Print the estimated T and p\n",
    "print(f\"The estimated T by Docta is:\\n{report.diagnose['T']}\")\n",
    "print(f\"The estimated p by Docta is:\\n{report.diagnose['p_clean'].reshape(-1)}\")\n",
    "# Print the True T and p\n",
    "print(\"------------------\")\n",
    "print(f\"The true T is:\\n{true_T}\")\n",
    "print(f\"The true p is:\\n{true_p}\")\n"
   ]
  },
  {
   "cell_type": "markdown",
   "metadata": {},
   "source": [
    "#### 1.3.5 Practical Cases: One label per feature\n",
    "\n",
    "\n",
    "Condition: $2$-NN label clusterability\n",
    "\n",
    "**Definition: (Clusterability)**\n",
    "A dataset $D$ satisfies $k$-NN label clusterability if $\\forall n \\in [N]$, the feature $x_n$ and its $k$-Nearest-Neighbor $x_{n_1}, \\cdots, x_{n_k}$ belong to the same true label class.\n",
    "\n",
    "<img src=\"tutorial_imgs/clusterability.png\" width=\"700\"> \n",
    "\n",
    "*Figure: Illustration of $k$-NN label clusterability.*\n",
    "\n",
    "**Properties**\n",
    "* $k_1$-NN label clusterability is *harder* than $k_2$-NN label clusterability when $k_1 > k_2$;\n",
    "* The cluster containing the same clean labels is not required to be a continuum, e.g., two clusters of class ``1'' can be far away;\n",
    "* The $k$-NN label clusterability only requires the existence of these feasible points, i.e., specifying the true class is not necessary.\n",
    "\n",
    "#### Algorithms\n",
    "* Step 1: Get embeddings of original features\n",
    "  * Good embedding (from contrastive learning, meta-learning, pre-trained models): \n",
    "    * 2-NN label clusterability\n",
    "  * Improve embedding [(Zhu et al.)](https://arxiv.org/abs/2202.01273):\n",
    "    * feature engineering \n",
    "    * reweight with f-mutual information\n",
    "* Step 2: Find (noisy) labels of 2-NN\n",
    "\n",
    "<img src=\"tutorial_imgs/hoc-step2.png\" width=\"500\"> \n",
    "\n",
    "* Step 3: Check label consensuses of 2-NN features\n",
    "* Step 4: Solve equations\n",
    "\n"
   ]
  },
  {
   "cell_type": "markdown",
   "metadata": {},
   "source": [
    "## Module 2. Find label errors\n",
    "\n",
    "**Two Philosophies:**\n",
    "* Learning-Centric Method (2.1, 2.2)\n",
    "  * *Memorization Effect*: DNNs first learn easy (clean) patterns, then learn difficult (hard) patterns \n",
    "* Data-Centric Method (2.3)\n",
    "  * *Neighborhood Information*: k-NN label clusterability (nearby features have the same true label)"
   ]
  },
  {
   "cell_type": "markdown",
   "metadata": {},
   "source": [
    "### 2.1. Detect with model prediction\n",
    "\n",
    "**Model Confidence**: The largest probability predicted by model (per sample)\n",
    "\n",
    "For example, consider a binary classification. After the final linear layer, the model output on feature $x_n$ is\n",
    "$$\n",
    "\\bm f(x_n) = \\begin{pmatrix} 0.8 \\\\ 0.2\\end{pmatrix}\n",
    "$$\n",
    "Then\n",
    "$$\n",
    "    \\texttt{Confidence} = \\max_{i\\in \\{1,2\\}} f{(x_n)}[i] = 0.8.\n",
    "$$\n",
    "\n",
    "\n",
    "\n",
    "**Idea:** Trust model predictions if confidence is high (e.g., > 0.8)\n",
    "\n",
    "**Algorithm (Sketch):**\n",
    "* Divide the noisy training dataset into two parts: $\\widetilde D_1, \\widetilde D_2$\n",
    "* Train model $f_1$ on $\\widetilde D_1$. Use $f_1$ to predict on $\\widetilde D_2$. \n",
    "* Find the samples whose label disagree with model predictions and model confidence is larger than threshold.\n",
    "\n",
    "\n",
    "  \n",
    "  \n"
   ]
  },
  {
   "cell_type": "markdown",
   "metadata": {},
   "source": [
    "### 2.2. Detect with instance influence\n",
    "**Instance Influence**: The influence of instance-$i$ to instance-$j$ on model predictions.\n",
    "\n",
    "<img src=\"tutorial_imgs/infl_def.png\" width=\"800\"> \n",
    "\n",
    "\n",
    "**Idea:** \n",
    "* Easy (clean) patterns --> Low influence\n",
    "* Difficult (wrong) patterns --> High influence\n",
    "\n",
    "\n",
    "**Estimate Influence During Training**\n",
    "\n",
    "<img src=\"tutorial_imgs/infl_approximation.png\" width=\"1000\"> \n",
    "\n",
    "\n",
    "**Algorithm (Sketch):**\n",
    "* Train model $f$ on noisy dataset. Record gradients caused by each point. \n",
    "* Calculate influence of instance-i $\\sum_j \\text{infl}_f(D,i,j)$.\n",
    "* Filter out points whose influence is larger than threshold."
   ]
  },
  {
   "cell_type": "markdown",
   "metadata": {},
   "source": [
    "### 2.3. Detect with similar features\n",
    "\n",
    "**Similar Features**: $k$-NN features.\n",
    "\n",
    "**Requirement**: $k$-NN label clusterability\n",
    "\n",
    "<img src=\"tutorial_imgs/clusterability.png\" width=\"700\"> \n",
    "\n",
    "**Idea**:\n",
    "* Score all the instances relying on $k$-NN information (higher --> clean)\n",
    "* Sort the instances according to scores\n",
    "* Set threshold and filter out low-score points\n",
    "\n",
    "<img src=\"tutorial_imgs/simifeat_detection.png\" width=\"1200\"> \n",
    "\n",
    "**Score Function**\n",
    "\n",
    "<img src=\"tutorial_imgs/simifeat_score.png\" width=\"1000\"> \n",
    "\n",
    "**Threshold**\n",
    "\n",
    "<img src=\"tutorial_imgs/simifeat_threshold.png\" width=\"1000\"> "
   ]
  },
  {
   "cell_type": "markdown",
   "metadata": {},
   "source": [
    "### 2.4. Example with Docta\n",
    "\n",
    "\n",
    "#### 2.4.1 Dataset \n",
    "We will adopt the Iris dataset for illustration.\n",
    "\n",
    "**Basic information**\n",
    "The Iris data includes three iris species with 50 samples each as well as some properties about each flower. Here is a display of the main features/labels of the iris dataset."
   ]
  },
  {
   "cell_type": "code",
   "execution_count": 78,
   "metadata": {},
   "outputs": [
    {
     "data": {
      "text/html": [
       "<div>\n",
       "<style scoped>\n",
       "    .dataframe tbody tr th:only-of-type {\n",
       "        vertical-align: middle;\n",
       "    }\n",
       "\n",
       "    .dataframe tbody tr th {\n",
       "        vertical-align: top;\n",
       "    }\n",
       "\n",
       "    .dataframe thead th {\n",
       "        text-align: right;\n",
       "    }\n",
       "</style>\n",
       "<table border=\"1\" class=\"dataframe\">\n",
       "  <thead>\n",
       "    <tr style=\"text-align: right;\">\n",
       "      <th></th>\n",
       "      <th>Id</th>\n",
       "      <th>SepalLengthCm</th>\n",
       "      <th>SepalWidthCm</th>\n",
       "      <th>PetalLengthCm</th>\n",
       "      <th>PetalWidthCm</th>\n",
       "      <th>Species</th>\n",
       "    </tr>\n",
       "  </thead>\n",
       "  <tbody>\n",
       "    <tr>\n",
       "      <th>0</th>\n",
       "      <td>83</td>\n",
       "      <td>5.8</td>\n",
       "      <td>2.7</td>\n",
       "      <td>3.9</td>\n",
       "      <td>1.2</td>\n",
       "      <td>Iris-versicolor</td>\n",
       "    </tr>\n",
       "    <tr>\n",
       "      <th>1</th>\n",
       "      <td>132</td>\n",
       "      <td>7.9</td>\n",
       "      <td>3.8</td>\n",
       "      <td>6.4</td>\n",
       "      <td>2.0</td>\n",
       "      <td>Iris-virginica</td>\n",
       "    </tr>\n",
       "    <tr>\n",
       "      <th>2</th>\n",
       "      <td>93</td>\n",
       "      <td>5.8</td>\n",
       "      <td>2.6</td>\n",
       "      <td>4.0</td>\n",
       "      <td>1.2</td>\n",
       "      <td>Iris-versicolor</td>\n",
       "    </tr>\n",
       "    <tr>\n",
       "      <th>3</th>\n",
       "      <td>29</td>\n",
       "      <td>5.2</td>\n",
       "      <td>3.4</td>\n",
       "      <td>1.4</td>\n",
       "      <td>0.2</td>\n",
       "      <td>Iris-setosa</td>\n",
       "    </tr>\n",
       "    <tr>\n",
       "      <th>4</th>\n",
       "      <td>12</td>\n",
       "      <td>4.8</td>\n",
       "      <td>3.4</td>\n",
       "      <td>1.6</td>\n",
       "      <td>0.2</td>\n",
       "      <td>Iris-setosa</td>\n",
       "    </tr>\n",
       "  </tbody>\n",
       "</table>\n",
       "</div>"
      ],
      "text/plain": [
       "    Id  SepalLengthCm  SepalWidthCm  PetalLengthCm  PetalWidthCm  \\\n",
       "0   83            5.8           2.7            3.9           1.2   \n",
       "1  132            7.9           3.8            6.4           2.0   \n",
       "2   93            5.8           2.6            4.0           1.2   \n",
       "3   29            5.2           3.4            1.4           0.2   \n",
       "4   12            4.8           3.4            1.6           0.2   \n",
       "\n",
       "           Species  \n",
       "0  Iris-versicolor  \n",
       "1   Iris-virginica  \n",
       "2  Iris-versicolor  \n",
       "3      Iris-setosa  \n",
       "4      Iris-setosa  "
      ]
     },
     "execution_count": 78,
     "metadata": {},
     "output_type": "execute_result"
    }
   ],
   "source": [
    "import pandas as pd\n",
    "base_path = './data/'\n",
    "clean_iris = pd.read_csv(base_path + 'clean_Iris.csv')\n",
    "clean_iris.head()"
   ]
  },
  {
   "cell_type": "markdown",
   "metadata": {},
   "source": [
    "The column ``Id`` indicates the raw index of the sample in the [official Iris dataset](https://archive.ics.uci.edu/dataset/53/iris). As displayed in the above table, there are four key compenents (features) for categorizing the species of the iris flower: ``SepalLengthCm``, ``SepalWidthCm``, ``PetalLengthCm``, ``PetalWidthCm``."
   ]
  },
  {
   "cell_type": "markdown",
   "metadata": {},
   "source": [
    "#### 2.4.2 Synthesize label noise \n",
    "\n",
    "The following function gives an example pipeline for preparing a dataset for Docta treatment."
   ]
  },
  {
   "cell_type": "code",
   "execution_count": 79,
   "metadata": {},
   "outputs": [],
   "source": [
    "import numpy as np\n",
    "from sklearn.preprocessing import LabelEncoder\n",
    "\n",
    "def process_csv(file_path, e=0.2):\n",
    "    \"\"\"\n",
    "    Input:\n",
    "      file_path: a raw file path of your csv file that you want to process\n",
    "      e: the percentage of label errors to simulate\n",
    "      (in this Iris data, we use the clean label to simulate label errors)\n",
    "    Output:\n",
    "      df: a processed csv files with label errors,\n",
    "          each column denotes a kind of feature (changed to nemerical ones if not),\n",
    "          except for the last one which is the (noisy) target column.\n",
    "      clean_label: this is the clean target reserved for checking the Docta performances\n",
    "    \"\"\"\n",
    "    # Load your data\n",
    "    df = pd.read_csv(file_path)\n",
    "\n",
    "    # (1) Rename the last column to 'clean_target'\n",
    "    df.rename(columns={df.columns[-1]: 'clean_target'}, inplace=True)\n",
    "\n",
    "    # (2) If 'clean_target' column is not of integer type, convert it\n",
    "    if df['clean_target'].dtype != 'int':\n",
    "        le = LabelEncoder()\n",
    "        df['clean_target'] = le.fit_transform(df['clean_target'])\n",
    "\n",
    "    # (3) Convert other columns to numerical values if they are not already\n",
    "    for col in df.columns[:-1]:  # Exclude the last column\n",
    "        if df[col].dtype == 'object':  # If the column has text\n",
    "            df[col] = le.fit_transform(df[col])  # Convert text to integer\n",
    "\n",
    "    # (4) Add a new 'target' column\n",
    "    n_unique = df['clean_target'].nunique()\n",
    "    def generate_target(val):\n",
    "        rand_val = np.random.random()\n",
    "        if rand_val < e:\n",
    "            new_val = np.random.choice([i for i in range(n_unique) if i != val])\n",
    "        else:\n",
    "            new_val = val\n",
    "        return new_val\n",
    "\n",
    "    df['target'] = df['clean_target'].apply(generate_target)\n",
    "    accuracy = (df['target'] == df['clean_target']).mean() * 100\n",
    "    # Print the accuracy\n",
    "    print(f\"Label error rate: {100 - accuracy:.2f}%\")\n",
    "    clean_label = df['clean_target'].tolist()\n",
    "    # Remove the clean label\n",
    "    df = df.drop(columns=['Id', 'clean_target'], axis=1)\n",
    "\n",
    "    return df, clean_label"
   ]
  },
  {
   "cell_type": "markdown",
   "metadata": {},
   "source": [
    "Synthesize and save the noise data"
   ]
  },
  {
   "cell_type": "code",
   "execution_count": 80,
   "metadata": {},
   "outputs": [
    {
     "name": "stdout",
     "output_type": "stream",
     "text": [
      "Label error rate: 27.33%\n"
     ]
    }
   ],
   "source": [
    "np.random.seed(42)\n",
    "noisy_df, clean_label = process_csv(base_path + 'clean_Iris.csv', e=0.25)\n",
    "noisy_df.to_csv(base_path + 'noisy_Iris.csv', index=False)\n"
   ]
  },
  {
   "cell_type": "markdown",
   "metadata": {},
   "source": [
    "#### Detect label errors with Docta.ai"
   ]
  },
  {
   "cell_type": "code",
   "execution_count": 81,
   "metadata": {},
   "outputs": [
    {
     "name": "stdout",
     "output_type": "stream",
     "text": [
      "Tabular-data load finished\n",
      "Detecting label errors with simifeat.\n",
      "Estimating consensus patterns...\n"
     ]
    },
    {
     "name": "stderr",
     "output_type": "stream",
     "text": [
      "  0%|          | 0/50 [00:00<?, ?it/s]"
     ]
    },
    {
     "name": "stderr",
     "output_type": "stream",
     "text": [
      "100%|██████████| 50/50 [00:00<00:00, 173.48it/s]\n"
     ]
    },
    {
     "name": "stdout",
     "output_type": "stream",
     "text": [
      "Estimating consensus patterns... [Done]\n",
      "Use cpu to solve equations\n"
     ]
    },
    {
     "name": "stderr",
     "output_type": "stream",
     "text": [
      "100%|██████████| 501/501 [00:01<00:00, 341.45it/s]\n"
     ]
    },
    {
     "name": "stdout",
     "output_type": "stream",
     "text": [
      "Solve equations... [Done]\n",
      "Use SimiFeat-rank to detect label errors.\n"
     ]
    },
    {
     "name": "stderr",
     "output_type": "stream",
     "text": [
      "100%|██████████| 51/51 [00:00<00:00, 917.31it/s]"
     ]
    },
    {
     "name": "stdout",
     "output_type": "stream",
     "text": [
      "[SimiFeat] We find 48 corrupted instances from 150 instances\n"
     ]
    },
    {
     "name": "stderr",
     "output_type": "stream",
     "text": [
      "\n"
     ]
    }
   ],
   "source": [
    "from docta.utils.config import Config\n",
    "from docta.datasets import TabularDataset\n",
    "import torch\n",
    "# Load config\n",
    "cfg = Config.fromfile('./config/label_error_tabular.py')\n",
    "\n",
    "np.random.seed(42)\n",
    "torch.manual_seed(0)\n",
    "dataset = TabularDataset(root_path=cfg.data_root, normalize=False)\n",
    "cfg.num_classes = len(np.unique(dataset.label))\n",
    "test_dataset = None\n",
    "print('Tabular-data load finished')\n",
    "\n",
    "from docta.apis import DetectLabel\n",
    "from docta.core.report import Report\n",
    "# Initialize the report\n",
    "report = Report()\n",
    "# Initialize the detector\n",
    "detector = DetectLabel(cfg, dataset, report=report)\n",
    "# Detection\n",
    "detector.detect()"
   ]
  },
  {
   "cell_type": "markdown",
   "metadata": {},
   "source": [
    "#### 2.4.3 Check the label error detection/curation results\n",
    "\n",
    "For each row, it contains the information of (**sample index & Docta suggested label & the confidence of the suggestion**)"
   ]
  },
  {
   "cell_type": "code",
   "execution_count": 82,
   "metadata": {},
   "outputs": [
    {
     "name": "stdout",
     "output_type": "stream",
     "text": [
      "[117, 0, 0.942684766214178]\n"
     ]
    }
   ],
   "source": [
    "cured = report.curation['label_curation']\n",
    "print(cured[0]) # we will see a three-tuple"
   ]
  },
  {
   "cell_type": "markdown",
   "metadata": {},
   "source": [
    "#### Cure the dataset according to Docta's report"
   ]
  },
  {
   "cell_type": "code",
   "execution_count": 83,
   "metadata": {},
   "outputs": [],
   "source": [
    "# This function takes the docta report, cured labels, and y_noisy as input, outputs a corrected y_train\n",
    "import numpy as np\n",
    "def cure_y_train(y_noisy, cured_report, thres = 0.8):\n",
    "    y_noisy_copy = np.copy(y_noisy)\n",
    "    cnt = 0\n",
    "    for report in cured_report:\n",
    "        a, b, c = report\n",
    "        if c > thres:\n",
    "            y_noisy_copy[a] = b\n",
    "            cnt += 1\n",
    "    return y_noisy_copy, cnt"
   ]
  },
  {
   "cell_type": "code",
   "execution_count": 84,
   "metadata": {},
   "outputs": [
    {
     "name": "stdout",
     "output_type": "stream",
     "text": [
      "Docta cured 30 potential label errors!\n"
     ]
    },
    {
     "data": {
      "text/html": [
       "<div>\n",
       "<style scoped>\n",
       "    .dataframe tbody tr th:only-of-type {\n",
       "        vertical-align: middle;\n",
       "    }\n",
       "\n",
       "    .dataframe tbody tr th {\n",
       "        vertical-align: top;\n",
       "    }\n",
       "\n",
       "    .dataframe thead th {\n",
       "        text-align: right;\n",
       "    }\n",
       "</style>\n",
       "<table border=\"1\" class=\"dataframe\">\n",
       "  <thead>\n",
       "    <tr style=\"text-align: right;\">\n",
       "      <th></th>\n",
       "      <th>SepalLengthCm</th>\n",
       "      <th>SepalWidthCm</th>\n",
       "      <th>PetalLengthCm</th>\n",
       "      <th>PetalWidthCm</th>\n",
       "      <th>target</th>\n",
       "      <th>docta_labels</th>\n",
       "    </tr>\n",
       "  </thead>\n",
       "  <tbody>\n",
       "    <tr>\n",
       "      <th>0</th>\n",
       "      <td>5.8</td>\n",
       "      <td>2.7</td>\n",
       "      <td>3.9</td>\n",
       "      <td>1.2</td>\n",
       "      <td>1</td>\n",
       "      <td>1</td>\n",
       "    </tr>\n",
       "    <tr>\n",
       "      <th>1</th>\n",
       "      <td>7.9</td>\n",
       "      <td>3.8</td>\n",
       "      <td>6.4</td>\n",
       "      <td>2.0</td>\n",
       "      <td>2</td>\n",
       "      <td>1</td>\n",
       "    </tr>\n",
       "    <tr>\n",
       "      <th>2</th>\n",
       "      <td>5.8</td>\n",
       "      <td>2.6</td>\n",
       "      <td>4.0</td>\n",
       "      <td>1.2</td>\n",
       "      <td>1</td>\n",
       "      <td>1</td>\n",
       "    </tr>\n",
       "    <tr>\n",
       "      <th>3</th>\n",
       "      <td>5.2</td>\n",
       "      <td>3.4</td>\n",
       "      <td>1.4</td>\n",
       "      <td>0.2</td>\n",
       "      <td>0</td>\n",
       "      <td>0</td>\n",
       "    </tr>\n",
       "    <tr>\n",
       "      <th>4</th>\n",
       "      <td>4.8</td>\n",
       "      <td>3.4</td>\n",
       "      <td>1.6</td>\n",
       "      <td>0.2</td>\n",
       "      <td>1</td>\n",
       "      <td>1</td>\n",
       "    </tr>\n",
       "  </tbody>\n",
       "</table>\n",
       "</div>"
      ],
      "text/plain": [
       "   SepalLengthCm  SepalWidthCm  PetalLengthCm  PetalWidthCm  target  \\\n",
       "0            5.8           2.7            3.9           1.2       1   \n",
       "1            7.9           3.8            6.4           2.0       2   \n",
       "2            5.8           2.6            4.0           1.2       1   \n",
       "3            5.2           3.4            1.4           0.2       0   \n",
       "4            4.8           3.4            1.6           0.2       1   \n",
       "\n",
       "   docta_labels  \n",
       "0             1  \n",
       "1             1  \n",
       "2             1  \n",
       "3             0  \n",
       "4             1  "
      ]
     },
     "execution_count": 84,
     "metadata": {},
     "output_type": "execute_result"
    }
   ],
   "source": [
    "docta_labels, n_cured_labels = cure_y_train(noisy_df['target'].tolist(), cured)\n",
    "noisy_df['docta_labels'] = docta_labels\n",
    "print(f\"Docta cured {n_cured_labels} potential label errors!\")\n",
    "noisy_df.head()"
   ]
  },
  {
   "cell_type": "markdown",
   "metadata": {},
   "source": [
    "#### Take a look at the transition matrix comparisons"
   ]
  },
  {
   "cell_type": "code",
   "execution_count": 89,
   "metadata": {},
   "outputs": [
    {
     "name": "stdout",
     "output_type": "stream",
     "text": [
      "The transition matrix between clean labels and the raw noisy labels is:\n",
      "[[34 11  5]\n",
      " [ 7 38  5]\n",
      " [ 6  7 37]]\n",
      "And number of label errors is 41\n",
      "-----------------------------------------------------------------------------\n",
      "The transition matrix between clean labels and the docta curated labels is:\n",
      "[[43  6  1]\n",
      " [ 3 46  1]\n",
      " [ 2  3 45]]\n",
      "And number of label errors is 16\n",
      "Takeaway: \n",
      "1. Docta has found 30 potential label errors. \n",
      "2. Precision: 0.9333333333333333. Recall: 0.6829268292682927. fscore: 0.7887323943661972\n"
     ]
    }
   ],
   "source": [
    "from sklearn.metrics import confusion_matrix\n",
    "from sklearn.metrics import accuracy_score\n",
    "y_noisy = noisy_df['target'].to_numpy()\n",
    "noisy_cm = confusion_matrix(clean_label, y_noisy)\n",
    "docta_cm = confusion_matrix(clean_label, docta_labels)\n",
    "print(f\"The transition matrix between clean labels and the raw noisy labels is:\\n{noisy_cm}\\nAnd number of label errors is {int(len(clean_label)*(1-accuracy_score(clean_label, y_noisy)))}\")\n",
    "print(\"-----------\"*7)\n",
    "print(f\"The transition matrix between clean labels and the docta curated labels is:\\n{docta_cm}\\nAnd number of label errors is {int(len(clean_label)*(1-accuracy_score(clean_label, docta_labels)))}\")\n",
    "\n",
    "true_label_errors = clean_label != y_noisy\n",
    "docta_label_errors = docta_labels != y_noisy\n",
    "precision = np.sum(true_label_errors * docta_label_errors) / np.sum(docta_label_errors)\n",
    "recall = np.sum(true_label_errors * docta_label_errors) / np.sum(true_label_errors)\n",
    "fscore = 2*precision*recall/(precision+recall)\n",
    "print(f\"Takeaway: \\n1. Docta has found {n_cured_labels} potential label errors. \\n2. Precision: {precision}. Recall: {recall}. fscore: {fscore}\")"
   ]
  },
  {
   "cell_type": "markdown",
   "metadata": {},
   "source": [
    "#### Visualize the curation"
   ]
  },
  {
   "cell_type": "code",
   "execution_count": 91,
   "metadata": {},
   "outputs": [
    {
     "data": {
      "image/png": "[encoded data removed]",
      "text/plain": [
       "<Figure size 1152x432 with 3 Axes>"
      ]
     },
     "metadata": {
      "needs_background": "light"
     },
     "output_type": "display_data"
    }
   ],
   "source": [
    "import matplotlib.pyplot as plt\n",
    "import seaborn as sns\n",
    "\n",
    "color_mapping = {\"Iris-setosa\": \"red\", \"Iris-versicolor\": \"green\", \"Iris-virginica\": \"blue\"}\n",
    "fig = plt.figure(figsize=(16, 6))  # Create a figure\n",
    "# SepalLengthCm v.s. SepalWidthCm\n",
    "ax1 = plt.subplot(131)\n",
    "sns.scatterplot(data=clean_iris, x=\"PetalLengthCm\", y=\"PetalWidthCm\", hue=\"Species\", palette=color_mapping, ax=ax1, s=200, alpha=0.5)\n",
    "ax1.set_title(\"Sepal Length vs. Sepal Width (Clean data)\")\n",
    "\n",
    "color_mapping_noise = {1: \"green\", 2: \"blue\", 0: \"red\"}\n",
    "\n",
    "ax2 = plt.subplot(132)\n",
    "sns.scatterplot(data=noisy_df, x=\"PetalLengthCm\", y=\"PetalWidthCm\", hue=\"target\", palette=color_mapping_noise,  ax=ax2, legend=False, s=200, alpha=0.5)\n",
    "ax2.set_title(\"Sepal Length vs. Sepal Width (Noisy data)\")\n",
    "\n",
    "ax3 = plt.subplot(133)\n",
    "sns.scatterplot(data=noisy_df, x=\"PetalLengthCm\", y=\"PetalWidthCm\", hue=\"docta_labels\", palette=color_mapping_noise,  ax=ax3, legend=False, s=200, alpha=0.5)\n",
    "ax3.set_title(\"Sepal Length vs. Sepal Width (Cured data)\")\n",
    "\n",
    "plt.tight_layout()  # Adjust the spacing between subplots\n",
    "plt.show()"
   ]
  },
  {
   "cell_type": "code",
   "execution_count": null,
   "metadata": {},
   "outputs": [],
   "source": []
  }
 ],
 "metadata": {
  "kernelspec": {
   "display_name": "Python 3",
   "language": "python",
   "name": "python3"
  },
  "language_info": {
   "codemirror_mode": {
    "name": "ipython",
    "version": 3
   },
   "file_extension": ".py",
   "mimetype": "text/x-python",
   "name": "python",
   "nbconvert_exporter": "python",
   "pygments_lexer": "ipython3",
   "version": "3.8.10"
  },
  "orig_nbformat": 4
 },
 "nbformat": 4,
 "nbformat_minor": 2
}
