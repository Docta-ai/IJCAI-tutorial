{
 "cells": [
  {
   "cell_type": "markdown",
   "metadata": {},
   "source": [
    "# Section 2: Handling the label noise in datasets"
   ]
  },
  {
   "cell_type": "markdown",
   "metadata": {},
   "source": [
    "Motivation for estimating T\n",
    "Understanding (give a figure from CIFAR-N paper)\n",
    "Give equation for loss correction (refer to next section)\n",
    "Knowing T also helps aggregation (Sigmetrics’15)\n",
    "Estimate T\n",
    "Anchor point (equation only, no code)\n",
    "HOC\n",
    "Equation + Figure\n",
    "Example\n",
    "Load a X matrix 100*10\n",
    "Load noisy Y (show ground truth T)\n",
    "Find 2-NN (print an example)\n",
    "Build tensor \n",
    "Solve equation \n",
    "Show transition matrix\n",
    "Detection \n",
    "Confident learning (equation + intuition)\n",
    "Influence function (def of influence function)\n",
    "SimFeat\n",
    "Equation + Figure\n",
    "Example: 2D example\n",
    "Show figure of the data points \n",
    "Use one wrongly labeled sample to show:\n",
    "Find K-NN neighbor\n",
    "Weighted majority vote\n",
    "Ranking + HOC \n",
    "Show suggestion\n"
   ]
  }
 ],
 "metadata": {
  "language_info": {
   "name": "python"
  },
  "orig_nbformat": 4
 },
 "nbformat": 4,
 "nbformat_minor": 2
}
