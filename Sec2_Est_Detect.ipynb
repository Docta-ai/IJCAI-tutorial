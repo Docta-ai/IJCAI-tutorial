{
 "cells": [
  {
   "cell_type": "markdown",
   "metadata": {},
   "source": [
    "# Section 2: Handling the label noise in datasets"
   ]
  },
  {
   "cell_type": "markdown",
   "metadata": {},
   "source": [
    "Throughout this section, you will get familiar with:\n",
    "\n",
    "* Why the label noise transition matrix $T$ is important in handling label noise?\n",
    "\n",
    "* How do we estimate $T$ given a dataset with only noisy labels?\n",
    "\n",
    "* How do we detect label errors in a dataset?"
   ]
  },
  {
   "cell_type": "markdown",
   "metadata": {},
   "source": [
    "## 1. Importance of $T$\n",
    "\n",
    "* Understanding the pattern/structure of label noise\n",
    "* Design robust loss functions\n",
    "* Helps label aggregation (weighted majority vote)"
   ]
  },
  {
   "cell_type": "markdown",
   "metadata": {},
   "source": [
    "## 2. Estimate $T$\n",
    "\n",
    "* Naive approach\n",
    "* Estimate with anchor points\n",
    "* Estimate with consensus patterns"
   ]
  },
  {
   "cell_type": "markdown",
   "metadata": {},
   "source": [
    "## 2. Detect label errors\n",
    "\n",
    "* Detect with model confidence\n",
    "* Detect with sample influence\n",
    "* Detect with similar features"
   ]
  },
  {
   "cell_type": "markdown",
   "metadata": {},
   "source": [
    "Motivation for estimating T\n",
    "Understanding (give a figure from CIFAR-N paper)\n",
    "Give equation for loss correction (refer to next section)\n",
    "Knowing T also helps aggregation (Sigmetrics’15)\n",
    "Estimate T\n",
    "Anchor point (equation only, no code)\n",
    "HOC\n",
    "Equation + Figure\n",
    "Example\n",
    "Load a X matrix 100*10\n",
    "Load noisy Y (show ground truth T)\n",
    "Find 2-NN (print an example)\n",
    "Build tensor \n",
    "Solve equation \n",
    "Show transition matrix\n",
    "Detection \n",
    "Confident learning (equation + intuition)\n",
    "Influence function (def of influence function)\n",
    "SimFeat\n",
    "Equation + Figure\n",
    "Example: 2D example\n",
    "Show figure of the data points \n",
    "Use one wrongly labeled sample to show:\n",
    "Find K-NN neighbor\n",
    "Weighted majority vote\n",
    "Ranking + HOC \n",
    "Show suggestion\n"
   ]
  }
 ],
 "metadata": {
  "language_info": {
   "name": "python"
  },
  "orig_nbformat": 4
 },
 "nbformat": 4,
 "nbformat_minor": 2
}
