{
 "cells": [
  {
   "cell_type": "markdown",
   "metadata": {},
   "source": [
    "# Section 3: Learning with noisy labels"
   ]
  },
  {
   "cell_type": "markdown",
   "metadata": {},
   "source": [
    "[include forward/backward loss correction, loss reweighting [paper 1, paper 2], peer loss [paper 1, paper 2], bi-tempered loss, and label smoothing [paper 1, paper 2]. We will also discuss other approaches, including Co-Teaching, and DivideMix, which employ two neural networks to supervise each other.]\n",
    "Loss function \n",
    "See above.\n",
    "Load a model\n",
    "Give a X = [0.2, 0.3]\n",
    "f(X)\n",
    "Y \n",
    "Loss (f(X),Y)\n",
    "Co-Teaching, DivideMix\n",
    "High level idea, intuition\n",
    "[we have maintained a leaderboard; show it after CIFAR-N]\n",
    "CIFAR-N\n",
    "Overview [slides]: show noisylabel.com, show github\n",
    "Show leaderboards\n"
   ]
  }
 ],
 "metadata": {
  "language_info": {
   "name": "python"
  },
  "orig_nbformat": 4
 },
 "nbformat": 4,
 "nbformat_minor": 2
}
