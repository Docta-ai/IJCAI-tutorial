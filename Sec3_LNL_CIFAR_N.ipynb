{
 "cells": [
  {
   "cell_type": "markdown",
   "metadata": {},
   "source": [
    "# Section 3: Learning with noisy labels"
   ]
  },
  {
   "cell_type": "markdown",
   "metadata": {},
   "source": [
    "Throughout this section, you will get familiar with:\n",
    "\n",
    "* How do we design loss functions that are robust to label noise?\n",
    "\n",
    "* How do we design training pipelines that are robust to label noise?\n",
    "\n",
    "* How do existing methods perform when facing real-world label noise?"
   ]
  },
  {
   "cell_type": "markdown",
   "metadata": {},
   "source": [
    "## 1. Noise-Robust Loss Functions\n",
    "\n",
    "* Forward/backward loss correction\n",
    "* Loss reweighting\n",
    "* Peer loss\n",
    "* Bi-tempered loss\n",
    "* Label smoothing"
   ]
  },
  {
   "cell_type": "markdown",
   "metadata": {},
   "source": [
    "## 2. Noise-Robust Training Pipelines\n",
    "\n",
    "* Dual-network structure\n",
    "* Semi-supervised learning\n",
    "* Self-supervised learning"
   ]
  },
  {
   "cell_type": "markdown",
   "metadata": {},
   "source": [
    "## 3. Real-world label noise and performance\n",
    "\n",
    "* Overview of CIFAR-N\n",
    "* Observations\n",
    "* Leaderboards"
   ]
  },
  {
   "cell_type": "markdown",
   "metadata": {},
   "source": [
    "[include forward/backward loss correction, loss reweighting [paper 1, paper 2], peer loss [paper 1, paper 2], bi-tempered loss, and label smoothing [paper 1, paper 2]. We will also discuss other approaches, including Co-Teaching, and DivideMix, which employ two neural networks to supervise each other.]\n",
    "Loss function \n",
    "See above.\n",
    "Load a model\n",
    "Give a X = [0.2, 0.3]\n",
    "f(X)\n",
    "Y \n",
    "Loss (f(X),Y)\n",
    "Co-Teaching, DivideMix\n",
    "High level idea, intuition\n",
    "[we have maintained a leaderboard; show it after CIFAR-N]\n",
    "CIFAR-N\n",
    "Overview [slides]: show noisylabel.com, show github\n",
    "Show leaderboards\n"
   ]
  }
 ],
 "metadata": {
  "language_info": {
   "name": "python"
  },
  "orig_nbformat": 4
 },
 "nbformat": 4,
 "nbformat_minor": 2
}
