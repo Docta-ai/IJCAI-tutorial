{
 "cells": [
  {
   "cell_type": "markdown",
   "metadata": {},
   "source": [
    "# Tutorial 2: Learning the noise rate in the labels without knowing the ground truth\n",
    "\n",
    "This module will go through examples showing how one can estimate the hidden noise transition matrix that controls the generation of noisy labels, without using ground truth annotations. \n",
    "\n",
    "The knowledge of noise rate plays a central role in understanding the quality of data and in building robust training approaches. "
   ]
  },
  {
   "cell_type": "markdown",
   "metadata": {},
   "source": []
  }
 ],
 "metadata": {
  "kernelspec": {
   "display_name": "Python 3.11.0 64-bit",
   "language": "python",
   "name": "python3"
  },
  "language_info": {
   "name": "python",
   "version": "3.11.0"
  },
  "orig_nbformat": 4,
  "vscode": {
   "interpreter": {
    "hash": "1a1af0ee75eeea9e2e1ee996c87e7a2b11a0bebd85af04bb136d915cefc0abce"
   }
  }
 },
 "nbformat": 4,
 "nbformat_minor": 2
}
