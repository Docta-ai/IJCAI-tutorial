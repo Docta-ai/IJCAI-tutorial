{
 "cells": [
  {
   "cell_type": "markdown",
   "metadata": {},
   "source": [
    "# Tutorial 3: Learning algorithms that handle noisy labels\n",
    "\n",
    "This module will provide examples showing how one would implement a learning algorithm specifically designed for handling noisy labels. \n",
    "\n",
    "We will introduce robust loss functions that are ready to be plugged into the empirical risk minimization (ERM) framework. The specific loss functions include [forward/backward loss correction](https://openaccess.thecvf.com/content_cvpr_2017/html/Patrini_Making_Deep_Neural_CVPR_2017_paper.html), loss reweighting [[paper 1](https://proceedings.neurips.cc/paper/2019/hash/9308b0d6e5898366a4a986bc33f3d3e7-Abstract.html), [paper 2](https://ieeexplore.ieee.org/abstract/document/7159100?casa_token=_bObUprbmdIAAAAA:_nx8tU9bE6_6MUw2-6A72c2K_pUtOcEyAm40V70rsaRFRTnPildNJ7qo6FT5mvdOJgP4nwTb8g)], peer loss [[paper 1](http://proceedings.mlr.press/v119/liu20e.html), [paper 2](https://openreview.net/forum?id=WesiCoRVQ15)], [bi-tempered loss](https://proceedings.neurips.cc/paper/2019/hash/8cd7775f9129da8b5bf787a063d8426e-Abstract.html), and label smoothing [[paper 1](http://proceedings.mlr.press/v119/lukasik20a.html?ref=https://githubhelp.com), [paper 2](https://proceedings.mlr.press/v162/wei22b.html)]. We will also discuss other approaches, including [Co-Teaching](https://proceedings.neurips.cc/paper/8072-co-teaching-robust-training-o), and [DivideMix](https://openreview.net/forum?id=HJgExaVtwr), which employ two neural networks to supervise each other.\n"
   ]
  },
  {
   "cell_type": "markdown",
   "metadata": {},
   "source": []
  }
 ],
 "metadata": {
  "kernelspec": {
   "display_name": "Python 3.11.0 64-bit",
   "language": "python",
   "name": "python3"
  },
  "language_info": {
   "name": "python",
   "version": "3.11.0"
  },
  "orig_nbformat": 4,
  "vscode": {
   "interpreter": {
    "hash": "1a1af0ee75eeea9e2e1ee996c87e7a2b11a0bebd85af04bb136d915cefc0abce"
   }
  }
 },
 "nbformat": 4,
 "nbformat_minor": 2
}
