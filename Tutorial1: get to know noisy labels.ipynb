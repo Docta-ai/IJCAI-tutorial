{
 "cells": [
  {
   "cell_type": "markdown",
   "metadata": {},
   "source": [
    "# Tutorial 1: Set up\n",
    "\n",
    "Throughout this tutorial, you will get familiar with:\n",
    "\n",
    "* What are noisy labels?\n",
    "\n",
    "* How to simulate noisy labels?\n",
    "\n",
    "* What are real-world noisy labels?"
   ]
  },
  {
   "cell_type": "markdown",
   "metadata": {},
   "source": []
  }
 ],
 "metadata": {
  "language_info": {
   "name": "python"
  },
  "orig_nbformat": 4
 },
 "nbformat": 4,
 "nbformat_minor": 2
}
